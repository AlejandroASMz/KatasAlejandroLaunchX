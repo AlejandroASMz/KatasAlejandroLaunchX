{
 "cells": [
  {
   "cell_type": "markdown",
   "metadata": {},
   "source": [
    "# Ejercicio 1: Trabajar con argumentos en funciones"
   ]
  },
  {
   "cell_type": "code",
   "execution_count": 1,
   "metadata": {},
   "outputs": [],
   "source": [
    "# Función para leer 3 tanques de combustible y muestre el promedio\n",
    "\n",
    "def generate_report(tanque1, tanque2, tanque3):\n",
    "    prom_total = (tanque1 + tanque2 + tanque3) / 3\n",
    "    return f\"\"\"Informe de combustible:\n",
    "    Promedio total: {prom_total}%\n",
    "    Tanque 1: {tanque1}%\n",
    "    Tanque 2: {tanque2}%\n",
    "    Tanque 3: {tanque3}% \n",
    "    \"\"\""
   ]
  },
  {
   "cell_type": "code",
   "execution_count": 2,
   "metadata": {},
   "outputs": [
    {
     "name": "stdout",
     "output_type": "stream",
     "text": [
      "Informe de combustible:\n",
      "    Promedio total: 56.666666666666664%\n",
      "    Tanque 1: 30%\n",
      "    Tanque 2: 60%\n",
      "    Tanque 3: 80% \n",
      "    \n"
     ]
    }
   ],
   "source": [
    "# Llamamos a la función que genera el reporte print(funcion(tanque1, tanque2, tanque3))\n",
    "print(generate_report(30, 60, 80))"
   ]
  },
  {
   "cell_type": "code",
   "execution_count": 10,
   "metadata": {},
   "outputs": [
    {
     "data": {
      "text/plain": [
       "56.666666666666664"
      ]
     },
     "execution_count": 10,
     "metadata": {},
     "output_type": "execute_result"
    }
   ],
   "source": [
    "# Función promedio \n",
    "def average(values):\n",
    "    total = sum(values)\n",
    "    numero_tanques = len(values)\n",
    "    return total / numero_tanques\n",
    "    #prom = total / numero_tanques\n",
    "    #print (\"Promedio total:\", prom, \"%\") \n",
    "\n",
    "average([30, 60, 80]) "
   ]
  },
  {
   "cell_type": "code",
   "execution_count": 11,
   "metadata": {},
   "outputs": [
    {
     "name": "stdout",
     "output_type": "stream",
     "text": [
      "Informe de combustible:\n",
      "    Promedio total: 56.666666666666664%\n",
      "    Tanque 1: 30%\n",
      "    Tanque 2: 60%\n",
      "    Tanque 3: 80% \n",
      "    \n"
     ]
    }
   ],
   "source": [
    "# Actualiza la función\n",
    "def generate_report(tanque1, tanque2, tanque3):\n",
    "    return f\"\"\"Informe de combustible:\n",
    "    Promedio total: {average([tanque1, tanque2, tanque3])}%\n",
    "    Tanque 1: {tanque1}%\n",
    "    Tanque 2: {tanque2}%\n",
    "    Tanque 3: {tanque3}% \n",
    "    \"\"\"\n",
    "\n",
    "# Call the updated function again with different values\n",
    "print(generate_report(30, 60, 80))"
   ]
  },
  {
   "cell_type": "markdown",
   "metadata": {},
   "source": [
    "# Ejercicio 2: Trabajo con argumentos de palabra clave\n"
   ]
  },
  {
   "cell_type": "code",
   "execution_count": 35,
   "metadata": {},
   "outputs": [
    {
     "name": "stdout",
     "output_type": "stream",
     "text": [
      "\n",
      "    Misión a Marte.\n",
      "    Tiempo total de viaje: 75 minutos.\n",
      "    Combustible restante: 90000 galones.\n",
      "    \n"
     ]
    }
   ],
   "source": [
    "# Función con un informe preciso de la misión. Considera hora de prelanzamiento, tiempo de vuelo, destino, tanque externo y tanque interno\n",
    "\n",
    "def informe_mision(hora_prelanz, tiempo_vuelo, destino, tanque_externo, tanque_interno):\n",
    "    return f\"\"\"\n",
    "    Misión a {destino}.\n",
    "    Tiempo total de viaje: {hora_prelanz + tiempo_vuelo} minutos.\n",
    "    Combustible restante: {tanque_externo + tanque_interno} galones.\n",
    "    \"\"\"\n",
    "\n",
    "print(informe_mision(15, 60, \"Marte\", 40000, 50000))"
   ]
  },
  {
   "cell_type": "code",
   "execution_count": 28,
   "metadata": {},
   "outputs": [
    {
     "name": "stdout",
     "output_type": "stream",
     "text": [
      "\n",
      "    Misión a Marte.\n",
      "    Tiempo total de viaje: 100 minutos.\n",
      "    Combustible restante: 150000 galones.\n",
      "    \n"
     ]
    }
   ],
   "source": [
    "# Escribe tu nueva función de reporte considerando lo anterior\n",
    "\n",
    "def informe_mision(destino, *minutos, **reserva_combustible):\n",
    "    return f\"\"\"\n",
    "    Misión a {destino}.\n",
    "    Tiempo total de viaje: {sum(minutos)} minutos.\n",
    "    Combustible restante: {sum(reserva_combustible.values())} galones.\n",
    "    \"\"\"\n",
    "\n",
    "print(informe_mision(\"Marte\", 20, 80, interno=60000, externo=90000))"
   ]
  },
  {
   "cell_type": "code",
   "execution_count": 37,
   "metadata": {},
   "outputs": [
    {
     "name": "stdout",
     "output_type": "stream",
     "text": [
      "\n",
      "    Misión a Marte.\n",
      "    Tiempo total de viaje: 140 minutos.\n",
      "    Combustible restante: 150000 galones.\n",
      "    Tanque interno --> 90000 galones restantes.\n",
      "    Tanque externo --> 60000 galones restantes.\n",
      "    \n"
     ]
    }
   ],
   "source": [
    "# Escribe tu nueva función\n",
    "\n",
    "def informe_mision(destino, *minutos, **reserva_combustible):\n",
    "    reporte_principal = f\"\"\"\n",
    "    Misión a {destino}.\n",
    "    Tiempo total de viaje: {sum(minutos)} minutos.\n",
    "    Combustible restante: {sum(reserva_combustible.values())} galones.\n",
    "    \"\"\"\n",
    "    for nombre_tanque, galones in reserva_combustible.items():\n",
    "        reporte_principal += f\"Tanque {nombre_tanque} --> {galones} galones restantes.\\n    \"\n",
    "    return reporte_principal\n",
    "\n",
    "print(informe_mision(\"Marte\", 60, 80, interno=90000, externo=60000))"
   ]
  }
 ],
 "metadata": {
  "interpreter": {
   "hash": "79434184167ed37bd3169f7b21407f70a39d7be74cd6d23692a3693c917966ff"
  },
  "kernelspec": {
   "display_name": "Python 3.10.2 64-bit",
   "language": "python",
   "name": "python3"
  },
  "language_info": {
   "codemirror_mode": {
    "name": "ipython",
    "version": 3
   },
   "file_extension": ".py",
   "mimetype": "text/x-python",
   "name": "python",
   "nbconvert_exporter": "python",
   "pygments_lexer": "ipython3",
   "version": "3.10.2"
  },
  "orig_nbformat": 4
 },
 "nbformat": 4,
 "nbformat_minor": 2
}
