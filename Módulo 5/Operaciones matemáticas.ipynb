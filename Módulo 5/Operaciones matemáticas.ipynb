{
 "cells": [
  {
   "cell_type": "markdown",
   "metadata": {},
   "source": [
    "# Ejercicio1 - Utilizar operadores aritméticos\n",
    "\n",
    "Exploremos cómo podemos crear un programa que pueda calcular la distancia entre dos planetas. Comenzaremos usando dos distancias de planetas: Tierra (149.597.870 km) y Júpiter (778.547.200 km)."
   ]
  },
  {
   "cell_type": "code",
   "execution_count": 1,
   "metadata": {},
   "outputs": [],
   "source": [
    "# Crear variables para almacenar las dos distancias\n",
    "# ¡Asegúrate de quitar las comas!\n",
    "planeta_uno = 149597870\n",
    "planeta_dos = 778547200"
   ]
  },
  {
   "cell_type": "code",
   "execution_count": 9,
   "metadata": {},
   "outputs": [
    {
     "name": "stdout",
     "output_type": "stream",
     "text": [
      "Distancia en kilometros = 628949330\n",
      "Distancia en millas = 390577533.93\n"
     ]
    }
   ],
   "source": [
    "# Calcular la distancia entre planetas\n",
    "distancia_km = planeta_dos - planeta_uno\n",
    "print(\"Distancia en kilometros =\", distancia_km)\n",
    "\n",
    "distancia_mi = distancia_km * 0.621\n",
    "print(\"Distancia en millas =\", distancia_mi)"
   ]
  },
  {
   "cell_type": "markdown",
   "metadata": {},
   "source": [
    "# Ejercicio 2: convierte cadenas en números y usa valores absolutos"
   ]
  },
  {
   "cell_type": "code",
   "execution_count": 26,
   "metadata": {},
   "outputs": [],
   "source": [
    "# Almacenar las entradas del usuario\n",
    "planeta_uno = input('Introduzca la distancia desde el sol al primer planeta en km')\n",
    "planeta_dos = input('Introduzca la distancia desde el sol al segundo planeta en km')"
   ]
  },
  {
   "cell_type": "code",
   "execution_count": 27,
   "metadata": {},
   "outputs": [],
   "source": [
    "# Convierte las cadenas de ambos planetas a números enteros\n",
    "planeta_uno = int(planeta_uno)\n",
    "planeta_dos = int(planeta_dos)"
   ]
  },
  {
   "cell_type": "code",
   "execution_count": 28,
   "metadata": {},
   "outputs": [
    {
     "name": "stdout",
     "output_type": "stream",
     "text": [
      "Distancia en kilometros = 1\n",
      "Distancia en millas = 0.621\n"
     ]
    }
   ],
   "source": [
    "# Realizar el cálculo y determinar el valor absoluto\n",
    "distancia_km = planeta_dos - planeta_uno\n",
    "print(\"Distancia en kilometros =\", distancia_km)\n",
    "\n",
    "# Convertir de KM a Millas\n",
    "distancia_mi = distancia_km * 0.621\n",
    "print(\"Distancia en millas =\",(abs(distancia_mi)))\n"
   ]
  }
 ],
 "metadata": {
  "interpreter": {
   "hash": "79434184167ed37bd3169f7b21407f70a39d7be74cd6d23692a3693c917966ff"
  },
  "kernelspec": {
   "display_name": "Python 3.10.2 64-bit",
   "language": "python",
   "name": "python3"
  },
  "language_info": {
   "codemirror_mode": {
    "name": "ipython",
    "version": 3
   },
   "file_extension": ".py",
   "mimetype": "text/x-python",
   "name": "python",
   "nbconvert_exporter": "python",
   "pygments_lexer": "ipython3",
   "version": "3.10.2"
  },
  "orig_nbformat": 4
 },
 "nbformat": 4,
 "nbformat_minor": 2
}
